{
 "cells": [
  {
   "cell_type": "markdown",
   "id": "f5cda44d-eae3-4a9e-8626-45fa9af87463",
   "metadata": {
    "tags": []
   },
   "source": [
    "# Problem Statement \n",
    "\n",
    "Sentiment analysis can help improve the performance of the recommendation system. Recommendation algorithm alone predicts the items based on user's past behaviour. However the recommend items might not be liked by the other users. By using sentiment analysis we can recommend the product based on how it's been percieved by other users. \n",
    "\n",
    "This notebook focuses on building a sentiment prediction model using various Machine Learning Algorithms."
   ]
  },
  {
   "cell_type": "code",
   "execution_count": 23,
   "id": "448a64b4-a99d-4084-a888-24cdaf04d6bd",
   "metadata": {
    "tags": []
   },
   "outputs": [],
   "source": [
    "from sklearn.model_selection import train_test_split\n",
    "from models import *\n",
    "import pickle\n",
    "from sklearn.feature_extraction.text import TfidfVectorizer\n",
    "from sklearn.feature_extraction.text import CountVectorizer"
   ]
  },
  {
   "cell_type": "code",
   "execution_count": null,
   "id": "25dcc428-75ba-47d2-a783-023dbe601791",
   "metadata": {},
   "outputs": [],
   "source": [
    "def module_from_file(module_name, file_path):\n",
    "    spec = importlib.util.spec_from_file_location(module_name, file_path)\n",
    "    module = importlib.util.module_from_spec(spec)\n",
    "    spec.loader.exec_module(module)\n",
    "    return module"
   ]
  },
  {
   "cell_type": "code",
   "execution_count": null,
   "id": "b9b5e492-7ea3-46f3-bf74-9f1f2a774fe7",
   "metadata": {},
   "outputs": [],
   "source": [
    "models = module_from_file(\"models\",\"models.py\")"
   ]
  },
  {
   "cell_type": "code",
   "execution_count": 4,
   "id": "8347f781-15f9-4acb-b8dd-59104b635694",
   "metadata": {
    "tags": []
   },
   "outputs": [],
   "source": [
    "#!pip install xgboost"
   ]
  },
  {
   "cell_type": "code",
   "execution_count": 6,
   "id": "563f85de-bcac-48ac-90f2-8776a0752527",
   "metadata": {
    "tags": []
   },
   "outputs": [
    {
     "data": {
      "text/html": [
       "<div>\n",
       "<style scoped>\n",
       "    .dataframe tbody tr th:only-of-type {\n",
       "        vertical-align: middle;\n",
       "    }\n",
       "\n",
       "    .dataframe tbody tr th {\n",
       "        vertical-align: top;\n",
       "    }\n",
       "\n",
       "    .dataframe thead th {\n",
       "        text-align: right;\n",
       "    }\n",
       "</style>\n",
       "<table border=\"1\" class=\"dataframe\">\n",
       "  <thead>\n",
       "    <tr style=\"text-align: right;\">\n",
       "      <th></th>\n",
       "      <th>lemmatized_review</th>\n",
       "      <th>user_sentiment</th>\n",
       "    </tr>\n",
       "  </thead>\n",
       "  <tbody>\n",
       "    <tr>\n",
       "      <th>0</th>\n",
       "      <td>love album good hip hop current pop sound hype...</td>\n",
       "      <td>1</td>\n",
       "    </tr>\n",
       "    <tr>\n",
       "      <th>1</th>\n",
       "      <td>good flavor review collect promotion</td>\n",
       "      <td>1</td>\n",
       "    </tr>\n",
       "    <tr>\n",
       "      <th>2</th>\n",
       "      <td>good flavor</td>\n",
       "      <td>1</td>\n",
       "    </tr>\n",
       "    <tr>\n",
       "      <th>3</th>\n",
       "      <td>read review look buy couple lubricant ultimate...</td>\n",
       "      <td>0</td>\n",
       "    </tr>\n",
       "    <tr>\n",
       "      <th>4</th>\n",
       "      <td>husband buy gel gel cause irritation feel like...</td>\n",
       "      <td>0</td>\n",
       "    </tr>\n",
       "  </tbody>\n",
       "</table>\n",
       "</div>"
      ],
      "text/plain": [
       "                                   lemmatized_review  user_sentiment\n",
       "0  love album good hip hop current pop sound hype...               1\n",
       "1               good flavor review collect promotion               1\n",
       "2                                        good flavor               1\n",
       "3  read review look buy couple lubricant ultimate...               0\n",
       "4  husband buy gel gel cause irritation feel like...               0"
      ]
     },
     "execution_count": 6,
     "metadata": {},
     "output_type": "execute_result"
    }
   ],
   "source": [
    "import pandas as pd\n",
    "df = pd.read_csv(\"pre_process_data.csv\")\n",
    "df.head()"
   ]
  },
  {
   "cell_type": "code",
   "execution_count": 7,
   "id": "ff84fb32-d0dc-4b06-aa6d-913187d051bc",
   "metadata": {
    "tags": []
   },
   "outputs": [],
   "source": [
    "df.dropna(inplace=True)"
   ]
  },
  {
   "cell_type": "code",
   "execution_count": 8,
   "id": "32cdf340-5010-4231-8555-5db281d6875e",
   "metadata": {
    "tags": []
   },
   "outputs": [],
   "source": [
    "X=df['lemmatized_review']\n",
    "y=df['user_sentiment']"
   ]
  },
  {
   "cell_type": "code",
   "execution_count": 9,
   "id": "779e01ee-988a-4043-84aa-fc04e349985b",
   "metadata": {
    "tags": []
   },
   "outputs": [],
   "source": [
    "X_train,X_test,y_train,y_test = train_test_split(X,y,train_size=0.7,random_state=42)"
   ]
  },
  {
   "cell_type": "code",
   "execution_count": 10,
   "id": "68fe8618-5578-41af-95f9-bc17e5309988",
   "metadata": {
    "tags": []
   },
   "outputs": [],
   "source": [
    "vec = CountVectorizer(stop_words='english')"
   ]
  },
  {
   "cell_type": "code",
   "execution_count": 11,
   "id": "7fa87a3a-75c4-484f-9751-a1d430206255",
   "metadata": {
    "tags": []
   },
   "outputs": [],
   "source": [
    "# transforming X_train to bow representation\n",
    "X_train=vec.fit_transform(X_train).toarray()\n",
    "X_test=vec.transform(X_test).toarray()"
   ]
  },
  {
   "cell_type": "markdown",
   "id": "913c2fc3-e549-4da2-86c2-3fd07c84fd63",
   "metadata": {},
   "source": [
    "## Training the model using BOW Representation\n",
    "### Naive Bayes"
   ]
  },
  {
   "cell_type": "code",
   "execution_count": 12,
   "id": "d57df26a-dc43-4957-b4b9-d0a085ff240d",
   "metadata": {
    "tags": []
   },
   "outputs": [
    {
     "name": "stderr",
     "output_type": "stream",
     "text": [
      "2023-02-08 18:39:09,522 - root - INFO - Training the model without hyperparameter tuning\n",
      "2023-02-08 18:39:23,538 - root - INFO - Finished training at time.struct_time(tm_year=2023, tm_mon=2, tm_mday=8, tm_hour=18, tm_min=39, tm_sec=23, tm_wday=2, tm_yday=39, tm_isdst=0)\n"
     ]
    }
   ],
   "source": [
    "#training using naive bayes without hyperparameters\n",
    "nb = models.NaiveBayes()\n",
    "naive_bayes,metrics=nb.train_model_without_hp(X_train,y_train,X_test,y_test)"
   ]
  },
  {
   "cell_type": "code",
   "execution_count": 13,
   "id": "0d80a247-dcd8-4b66-ae63-fe3f845dcd84",
   "metadata": {
    "tags": []
   },
   "outputs": [],
   "source": [
    "model_performance={}\n",
    "model_performance['naive_bayes_bow_without_hp']=metrics"
   ]
  },
  {
   "cell_type": "code",
   "execution_count": 14,
   "id": "56ab7e54-e1b5-4c08-a78f-823d1a3ec45c",
   "metadata": {
    "tags": []
   },
   "outputs": [
    {
     "name": "stderr",
     "output_type": "stream",
     "text": [
      "2023-02-08 18:39:41,231 - root - INFO - Started training naive bayes with hyperparameter tuning\n",
      "/opt/conda/lib/python3.7/site-packages/sklearn/model_selection/_search.py:281: UserWarning: The total space of parameters 4 is smaller than n_iter=10. Running 4 iterations. For exhaustive searches, use GridSearchCV.\n",
      "  % (grid_size, self.n_iter, grid_size), UserWarning)\n",
      "2023-02-08 18:41:22,624 - root - INFO - Best params {'alpha': 1e-07} \n",
      "2023-02-08 18:41:31,396 - root - INFO - Finished training at time.struct_time(tm_year=2023, tm_mon=2, tm_mday=8, tm_hour=18, tm_min=41, tm_sec=31, tm_wday=2, tm_yday=39, tm_isdst=0)\n"
     ]
    }
   ],
   "source": [
    "# training naive bayes with hyperparameter\n",
    "naive_bayes_hp,metrics=nb.train_model_with_hp(X_train,y_train,X_test,y_test)"
   ]
  },
  {
   "cell_type": "code",
   "execution_count": 15,
   "id": "27687511-72f6-4f5b-92f7-73c3196c681a",
   "metadata": {
    "tags": []
   },
   "outputs": [],
   "source": [
    "model_performance['naive_bayes_bow_with_hp']=metrics"
   ]
  },
  {
   "cell_type": "markdown",
   "id": "0fa98b8e-ad47-46d3-a215-034a3f5df818",
   "metadata": {},
   "source": [
    "### Logistic Regression"
   ]
  },
  {
   "cell_type": "code",
   "execution_count": 16,
   "id": "78d71acb-f9cc-4ced-94b5-6d5b47e965fa",
   "metadata": {
    "tags": []
   },
   "outputs": [
    {
     "name": "stderr",
     "output_type": "stream",
     "text": [
      "2023-02-08 18:41:49,662 - root - INFO - Training the model without hyperparameter tuning\n",
      "/opt/conda/lib/python3.7/site-packages/sklearn/linear_model/_logistic.py:940: ConvergenceWarning: lbfgs failed to converge (status=1):\n",
      "STOP: TOTAL NO. of ITERATIONS REACHED LIMIT.\n",
      "\n",
      "Increase the number of iterations (max_iter) or scale the data as shown in:\n",
      "    https://scikit-learn.org/stable/modules/preprocessing.html\n",
      "Please also refer to the documentation for alternative solver options:\n",
      "    https://scikit-learn.org/stable/modules/linear_model.html#logistic-regression\n",
      "  extra_warning_msg=_LOGISTIC_SOLVER_CONVERGENCE_MSG)\n",
      "2023-02-08 18:42:30,091 - root - INFO - Finished training at time.struct_time(tm_year=2023, tm_mon=2, tm_mday=8, tm_hour=18, tm_min=42, tm_sec=30, tm_wday=2, tm_yday=39, tm_isdst=0)\n"
     ]
    }
   ],
   "source": [
    "# training the model using logistic regression\n",
    "lr = models.LRClassification()\n",
    "lr_model,metrics = lr.train_model_without_hp(X_train,y_train,X_test,y_test)"
   ]
  },
  {
   "cell_type": "code",
   "execution_count": 17,
   "id": "cae00c3a-a25a-4009-baec-e88c4af9fd9a",
   "metadata": {
    "tags": []
   },
   "outputs": [
    {
     "data": {
      "text/plain": [
       "<bound method BaseEstimator.get_params of LogisticRegression(C=1.0, class_weight='balanced', dual=False,\n",
       "                   fit_intercept=True, intercept_scaling=1, l1_ratio=None,\n",
       "                   max_iter=100, multi_class='auto', n_jobs=None, penalty='l2',\n",
       "                   random_state=42, solver='lbfgs', tol=0.0001, verbose=0,\n",
       "                   warm_start=False)>"
      ]
     },
     "execution_count": 17,
     "metadata": {},
     "output_type": "execute_result"
    }
   ],
   "source": [
    "lr_model.get_params"
   ]
  },
  {
   "cell_type": "code",
   "execution_count": 18,
   "id": "08e8dc23-b3a0-4387-bf82-ca6196adfc8b",
   "metadata": {
    "tags": []
   },
   "outputs": [],
   "source": [
    "model_performance['lr_bow_without_hp']=metrics"
   ]
  },
  {
   "cell_type": "code",
   "execution_count": 19,
   "id": "78dbe11a-3f25-442f-aeda-257eecb3b96d",
   "metadata": {
    "tags": []
   },
   "outputs": [
    {
     "name": "stderr",
     "output_type": "stream",
     "text": [
      "2023-02-08 18:44:31,842 - root - INFO - Started training logistic regression with hyperparameter tuning\n",
      "/opt/conda/lib/python3.7/site-packages/sklearn/model_selection/_search.py:281: UserWarning: The total space of parameters 9 is smaller than n_iter=10. Running 9 iterations. For exhaustive searches, use GridSearchCV.\n",
      "  % (grid_size, self.n_iter, grid_size), UserWarning)\n",
      "/opt/conda/lib/python3.7/site-packages/sklearn/linear_model/_logistic.py:940: ConvergenceWarning: lbfgs failed to converge (status=1):\n",
      "STOP: TOTAL NO. of ITERATIONS REACHED LIMIT.\n",
      "\n",
      "Increase the number of iterations (max_iter) or scale the data as shown in:\n",
      "    https://scikit-learn.org/stable/modules/preprocessing.html\n",
      "Please also refer to the documentation for alternative solver options:\n",
      "    https://scikit-learn.org/stable/modules/linear_model.html#logistic-regression\n",
      "  extra_warning_msg=_LOGISTIC_SOLVER_CONVERGENCE_MSG)\n",
      "/opt/conda/lib/python3.7/site-packages/sklearn/linear_model/_logistic.py:940: ConvergenceWarning: lbfgs failed to converge (status=1):\n",
      "STOP: TOTAL NO. of ITERATIONS REACHED LIMIT.\n",
      "\n",
      "Increase the number of iterations (max_iter) or scale the data as shown in:\n",
      "    https://scikit-learn.org/stable/modules/preprocessing.html\n",
      "Please also refer to the documentation for alternative solver options:\n",
      "    https://scikit-learn.org/stable/modules/linear_model.html#logistic-regression\n",
      "  extra_warning_msg=_LOGISTIC_SOLVER_CONVERGENCE_MSG)\n",
      "2023-02-08 18:52:54,971 - root - INFO - Best params {'tol': 0.01, 'C': 1} \n",
      "/opt/conda/lib/python3.7/site-packages/sklearn/linear_model/_logistic.py:940: ConvergenceWarning: lbfgs failed to converge (status=1):\n",
      "STOP: TOTAL NO. of ITERATIONS REACHED LIMIT.\n",
      "\n",
      "Increase the number of iterations (max_iter) or scale the data as shown in:\n",
      "    https://scikit-learn.org/stable/modules/preprocessing.html\n",
      "Please also refer to the documentation for alternative solver options:\n",
      "    https://scikit-learn.org/stable/modules/linear_model.html#logistic-regression\n",
      "  extra_warning_msg=_LOGISTIC_SOLVER_CONVERGENCE_MSG)\n",
      "2023-02-08 18:53:14,932 - root - INFO - Finished training at time.struct_time(tm_year=2023, tm_mon=2, tm_mday=8, tm_hour=18, tm_min=53, tm_sec=14, tm_wday=2, tm_yday=39, tm_isdst=0)\n"
     ]
    }
   ],
   "source": [
    "# tuning the model with smaller set\n",
    "lr_model_hp,metrics = lr.train_model_with_hp(X_train[0:10000],y_train[0:10000],X_test[0:100],y_test[0:100])"
   ]
  },
  {
   "cell_type": "code",
   "execution_count": 20,
   "id": "dc25cc75-c04c-4eb9-850f-dfd45981211d",
   "metadata": {
    "tags": []
   },
   "outputs": [],
   "source": [
    "model_performance['lr_bow_with_hp']=metrics"
   ]
  },
  {
   "cell_type": "code",
   "execution_count": 21,
   "id": "49cf0cd5-8033-4a75-9b27-00ea20347427",
   "metadata": {
    "tags": []
   },
   "outputs": [
    {
     "data": {
      "text/plain": [
       "{'naive_bayes_bow_without_hp': {'training_accuracy': 0.8921699371308821,\n",
       "  'training_precision': 0.9141554824006077,\n",
       "  'training_recall': 0.9694398195391805,\n",
       "  'test_accuracy': 0.8865429492165796,\n",
       "  'test_precision': 0.9059342701196145,\n",
       "  'test_recall': 0.9736645032451323},\n",
       " 'naive_bayes_bow_with_hp': {'training_accuracy': 0.9448942655743952,\n",
       "  'training_precision': 0.9606901646264246,\n",
       "  'training_recall': 0.9778720661689672,\n",
       "  'test_accuracy': 0.9005445049449939,\n",
       "  'test_precision': 0.9230769230769231,\n",
       "  'test_recall': 0.9690464303544682},\n",
       " 'lr_bow_without_hp': {'training_accuracy': 0.9395122880548676,\n",
       "  'training_precision': 0.9976478687396019,\n",
       "  'training_recall': 0.9339921585477201,\n",
       "  'test_accuracy': 0.901211245693966,\n",
       "  'test_precision': 0.9823919815793039,\n",
       "  'test_recall': 0.9052670993509735},\n",
       " 'lr_bow_with_hp': {'training_accuracy': 0.9425,\n",
       "  'training_precision': 0.9975947083583885,\n",
       "  'training_recall': 0.9372881355932203,\n",
       "  'test_accuracy': 0.91,\n",
       "  'test_precision': 0.9883720930232558,\n",
       "  'test_recall': 0.9139784946236559}}"
      ]
     },
     "execution_count": 21,
     "metadata": {},
     "output_type": "execute_result"
    }
   ],
   "source": [
    "model_performance"
   ]
  },
  {
   "cell_type": "markdown",
   "id": "e7403e20-c670-43c4-a2ae-06c94f475b24",
   "metadata": {},
   "source": [
    "### XGBoost"
   ]
  },
  {
   "cell_type": "code",
   "execution_count": 22,
   "id": "2061c694-4445-4fcd-84e5-52344aa32f40",
   "metadata": {
    "tags": []
   },
   "outputs": [
    {
     "name": "stderr",
     "output_type": "stream",
     "text": [
      "2023-02-08 18:53:31,172 - root - INFO - Training the model without hyperparameter tuning\n",
      "2023-02-08 19:05:54,376 - root - INFO - Finished training at time.struct_time(tm_year=2023, tm_mon=2, tm_mday=8, tm_hour=19, tm_min=5, tm_sec=54, tm_wday=2, tm_yday=39, tm_isdst=0)\n"
     ]
    }
   ],
   "source": [
    "xgb = models.XGBoost()\n",
    "xgb,metrics=xgb.train_model_without_hp(X_train,y_train,X_test,y_test)"
   ]
  },
  {
   "cell_type": "code",
   "execution_count": 25,
   "id": "91a6a046-1c2d-4e6e-948f-28c4ac75fbb7",
   "metadata": {},
   "outputs": [],
   "source": [
    "model_performance['xgb_without_hp'] = metrics"
   ]
  },
  {
   "cell_type": "code",
   "execution_count": 26,
   "id": "12954cfb-b40b-4372-b546-6b43c953fbf8",
   "metadata": {
    "tags": []
   },
   "outputs": [
    {
     "data": {
      "text/plain": [
       "{'naive_bayes_bow_without_hp': {'training_accuracy': 0.8921699371308821,\n",
       "  'training_precision': 0.9141554824006077,\n",
       "  'training_recall': 0.9694398195391805,\n",
       "  'test_accuracy': 0.8865429492165796,\n",
       "  'test_precision': 0.9059342701196145,\n",
       "  'test_recall': 0.9736645032451323},\n",
       " 'naive_bayes_bow_with_hp': {'training_accuracy': 0.9448942655743952,\n",
       "  'training_precision': 0.9606901646264246,\n",
       "  'training_recall': 0.9778720661689672,\n",
       "  'test_accuracy': 0.9005445049449939,\n",
       "  'test_precision': 0.9230769230769231,\n",
       "  'test_recall': 0.9690464303544682},\n",
       " 'lr_bow_without_hp': {'training_accuracy': 0.9395122880548676,\n",
       "  'training_precision': 0.9976478687396019,\n",
       "  'training_recall': 0.9339921585477201,\n",
       "  'test_accuracy': 0.901211245693966,\n",
       "  'test_precision': 0.9823919815793039,\n",
       "  'test_recall': 0.9052670993509735},\n",
       " 'lr_bow_with_hp': {'training_accuracy': 0.9425,\n",
       "  'training_precision': 0.9975947083583885,\n",
       "  'training_recall': 0.9372881355932203,\n",
       "  'test_accuracy': 0.91,\n",
       "  'test_precision': 0.9883720930232558,\n",
       "  'test_recall': 0.9139784946236559},\n",
       " 'xgb_without_hp': {'training_accuracy': 0.934416079253191,\n",
       "  'training_precision': 0.9361971260878365,\n",
       "  'training_recall': 0.9937698050378645,\n",
       "  'test_accuracy': 0.919546616290699,\n",
       "  'test_precision': 0.9266978922716628,\n",
       "  'test_recall': 0.9877683474787818}}"
      ]
     },
     "execution_count": 26,
     "metadata": {},
     "output_type": "execute_result"
    }
   ],
   "source": [
    "model_performance"
   ]
  },
  {
   "cell_type": "markdown",
   "id": "4a51224c-595a-4211-8ae3-c3cc7bcd04e8",
   "metadata": {},
   "source": [
    "### Evaluating performance of different ML algorithms trained on BOW model"
   ]
  },
  {
   "cell_type": "code",
   "execution_count": 27,
   "id": "daac57a9-9d27-4170-999d-093994528ca6",
   "metadata": {
    "tags": []
   },
   "outputs": [
    {
     "data": {
      "text/html": [
       "<div>\n",
       "<style scoped>\n",
       "    .dataframe tbody tr th:only-of-type {\n",
       "        vertical-align: middle;\n",
       "    }\n",
       "\n",
       "    .dataframe tbody tr th {\n",
       "        vertical-align: top;\n",
       "    }\n",
       "\n",
       "    .dataframe thead th {\n",
       "        text-align: right;\n",
       "    }\n",
       "</style>\n",
       "<table border=\"1\" class=\"dataframe\">\n",
       "  <thead>\n",
       "    <tr style=\"text-align: right;\">\n",
       "      <th></th>\n",
       "      <th>naive_bayes_bow_without_hp</th>\n",
       "      <th>naive_bayes_bow_with_hp</th>\n",
       "      <th>lr_bow_without_hp</th>\n",
       "      <th>lr_bow_with_hp</th>\n",
       "      <th>xgb_without_hp</th>\n",
       "    </tr>\n",
       "  </thead>\n",
       "  <tbody>\n",
       "    <tr>\n",
       "      <th>training_accuracy</th>\n",
       "      <td>0.892170</td>\n",
       "      <td>0.944894</td>\n",
       "      <td>0.939512</td>\n",
       "      <td>0.942500</td>\n",
       "      <td>0.934416</td>\n",
       "    </tr>\n",
       "    <tr>\n",
       "      <th>training_precision</th>\n",
       "      <td>0.914155</td>\n",
       "      <td>0.960690</td>\n",
       "      <td>0.997648</td>\n",
       "      <td>0.997595</td>\n",
       "      <td>0.936197</td>\n",
       "    </tr>\n",
       "    <tr>\n",
       "      <th>training_recall</th>\n",
       "      <td>0.969440</td>\n",
       "      <td>0.977872</td>\n",
       "      <td>0.933992</td>\n",
       "      <td>0.937288</td>\n",
       "      <td>0.993770</td>\n",
       "    </tr>\n",
       "    <tr>\n",
       "      <th>test_accuracy</th>\n",
       "      <td>0.886543</td>\n",
       "      <td>0.900545</td>\n",
       "      <td>0.901211</td>\n",
       "      <td>0.910000</td>\n",
       "      <td>0.919547</td>\n",
       "    </tr>\n",
       "    <tr>\n",
       "      <th>test_precision</th>\n",
       "      <td>0.905934</td>\n",
       "      <td>0.923077</td>\n",
       "      <td>0.982392</td>\n",
       "      <td>0.988372</td>\n",
       "      <td>0.926698</td>\n",
       "    </tr>\n",
       "    <tr>\n",
       "      <th>test_recall</th>\n",
       "      <td>0.973665</td>\n",
       "      <td>0.969046</td>\n",
       "      <td>0.905267</td>\n",
       "      <td>0.913978</td>\n",
       "      <td>0.987768</td>\n",
       "    </tr>\n",
       "  </tbody>\n",
       "</table>\n",
       "</div>"
      ],
      "text/plain": [
       "                    naive_bayes_bow_without_hp  naive_bayes_bow_with_hp  \\\n",
       "training_accuracy                     0.892170                 0.944894   \n",
       "training_precision                    0.914155                 0.960690   \n",
       "training_recall                       0.969440                 0.977872   \n",
       "test_accuracy                         0.886543                 0.900545   \n",
       "test_precision                        0.905934                 0.923077   \n",
       "test_recall                           0.973665                 0.969046   \n",
       "\n",
       "                    lr_bow_without_hp  lr_bow_with_hp  xgb_without_hp  \n",
       "training_accuracy            0.939512        0.942500        0.934416  \n",
       "training_precision           0.997648        0.997595        0.936197  \n",
       "training_recall              0.933992        0.937288        0.993770  \n",
       "test_accuracy                0.901211        0.910000        0.919547  \n",
       "test_precision               0.982392        0.988372        0.926698  \n",
       "test_recall                  0.905267        0.913978        0.987768  "
      ]
     },
     "execution_count": 27,
     "metadata": {},
     "output_type": "execute_result"
    }
   ],
   "source": [
    "import pandas as pd\n",
    "bow_performance=pd.DataFrame(model_performance)\n",
    "bow_performance"
   ]
  },
  {
   "cell_type": "markdown",
   "id": "355ea5a0-61f1-4bd5-a31e-a34b282a3a67",
   "metadata": {},
   "source": [
    "## Training the model using TF-IDF"
   ]
  },
  {
   "cell_type": "code",
   "execution_count": 28,
   "id": "3e865d02-d2e2-47a9-b46e-bf5631e26dbe",
   "metadata": {
    "tags": []
   },
   "outputs": [],
   "source": [
    "vec =TfidfVectorizer(stop_words='english')"
   ]
  },
  {
   "cell_type": "code",
   "execution_count": 29,
   "id": "6787631b-d916-4045-b0ce-27ec7238aa5f",
   "metadata": {
    "tags": []
   },
   "outputs": [],
   "source": [
    "X_train,X_test,y_train,y_test = train_test_split(X,y,train_size=0.7,random_state=42)"
   ]
  },
  {
   "cell_type": "code",
   "execution_count": 31,
   "id": "9a4d51df-02d1-4598-a3bf-47274c3b7f81",
   "metadata": {
    "tags": []
   },
   "outputs": [],
   "source": [
    "# transforming X_train to bow representation\n",
    "X_train=vec.fit_transform(X_train).toarray()\n",
    "X_test=vec.transform(X_test).toarray()"
   ]
  },
  {
   "cell_type": "markdown",
   "id": "11756029-43c9-4e87-aad8-48f6da1589f7",
   "metadata": {},
   "source": [
    "### Naive Bayes"
   ]
  },
  {
   "cell_type": "code",
   "execution_count": 32,
   "id": "f9c6ac25-e3e9-4c47-8f6f-2e5ae2a64a9e",
   "metadata": {
    "tags": []
   },
   "outputs": [
    {
     "name": "stderr",
     "output_type": "stream",
     "text": [
      "2023-02-08 19:08:49,122 - root - INFO - Training the model without hyperparameter tuning\n",
      "2023-02-08 19:08:55,048 - root - INFO - Finished training at time.struct_time(tm_year=2023, tm_mon=2, tm_mday=8, tm_hour=19, tm_min=8, tm_sec=55, tm_wday=2, tm_yday=39, tm_isdst=0)\n"
     ]
    }
   ],
   "source": [
    "#training using naive bayes\n",
    "nb = models.NaiveBayes()\n",
    "naive_bayes,metrics=nb.train_model_without_hp(X_train,y_train,X_test,y_test)"
   ]
  },
  {
   "cell_type": "code",
   "execution_count": 33,
   "id": "54cbade0-56e0-458d-83dc-0449829c249c",
   "metadata": {
    "tags": []
   },
   "outputs": [],
   "source": [
    "model_performance={}\n",
    "model_performance['naive_bayes_without_hp'] = metrics"
   ]
  },
  {
   "cell_type": "code",
   "execution_count": 34,
   "id": "9f808a7d-9017-48be-ba88-f03c8ad066ac",
   "metadata": {
    "tags": []
   },
   "outputs": [
    {
     "name": "stderr",
     "output_type": "stream",
     "text": [
      "2023-02-08 19:09:26,408 - root - INFO - Started training naive bayes with hyperparameter tuning\n",
      "/opt/conda/lib/python3.7/site-packages/sklearn/model_selection/_search.py:281: UserWarning: The total space of parameters 4 is smaller than n_iter=10. Running 4 iterations. For exhaustive searches, use GridSearchCV.\n",
      "  % (grid_size, self.n_iter, grid_size), UserWarning)\n",
      "2023-02-08 19:10:28,223 - root - INFO - Best params {'alpha': 1e-07} \n",
      "2023-02-08 19:10:33,703 - root - INFO - Finished training at time.struct_time(tm_year=2023, tm_mon=2, tm_mday=8, tm_hour=19, tm_min=10, tm_sec=33, tm_wday=2, tm_yday=39, tm_isdst=0)\n"
     ]
    }
   ],
   "source": [
    "naive_bayes_hp,metrics=nb.train_model_with_hp(X_train,y_train,X_test,y_test)"
   ]
  },
  {
   "cell_type": "code",
   "execution_count": 35,
   "id": "287f7427-645b-4e3a-8f20-cbcbbbf2f89b",
   "metadata": {
    "tags": []
   },
   "outputs": [],
   "source": [
    "model_performance['naive_bayes_bow_with_hp']=metrics"
   ]
  },
  {
   "cell_type": "markdown",
   "id": "25e8808e-b8ca-4324-8d30-1af19a6bd4c2",
   "metadata": {},
   "source": [
    "### Logistic Regression"
   ]
  },
  {
   "cell_type": "code",
   "execution_count": 36,
   "id": "b0f88a98-05a9-44b8-b060-e97200e2fe11",
   "metadata": {
    "tags": []
   },
   "outputs": [
    {
     "name": "stderr",
     "output_type": "stream",
     "text": [
      "2023-02-08 19:11:05,513 - root - INFO - Training the model without hyperparameter tuning\n",
      "2023-02-08 19:11:16,611 - root - INFO - Finished training at time.struct_time(tm_year=2023, tm_mon=2, tm_mday=8, tm_hour=19, tm_min=11, tm_sec=16, tm_wday=2, tm_yday=39, tm_isdst=0)\n"
     ]
    }
   ],
   "source": [
    "# training the model using logistic regression\n",
    "lr = models.LRClassification()\n",
    "lr_model,metrics = lr.train_model_without_hp(X_train,y_train,X_test,y_test)"
   ]
  },
  {
   "cell_type": "code",
   "execution_count": 37,
   "id": "e807d9a3-f675-42a4-9ee7-0e3053543e58",
   "metadata": {
    "tags": []
   },
   "outputs": [],
   "source": [
    "model_performance['lr_bow_without_hp']=metrics"
   ]
  },
  {
   "cell_type": "code",
   "execution_count": 38,
   "id": "09c41f6d-9b39-4219-80e7-a4be0b62c587",
   "metadata": {
    "tags": []
   },
   "outputs": [
    {
     "name": "stderr",
     "output_type": "stream",
     "text": [
      "2023-02-08 19:11:43,943 - root - INFO - Started training logistic regression with hyperparameter tuning\n",
      "/opt/conda/lib/python3.7/site-packages/sklearn/model_selection/_search.py:281: UserWarning: The total space of parameters 9 is smaller than n_iter=10. Running 9 iterations. For exhaustive searches, use GridSearchCV.\n",
      "  % (grid_size, self.n_iter, grid_size), UserWarning)\n",
      "2023-02-08 19:17:07,502 - root - INFO - Best params {'tol': 0.01, 'C': 1} \n",
      "2023-02-08 19:17:12,923 - root - INFO - Finished training at time.struct_time(tm_year=2023, tm_mon=2, tm_mday=8, tm_hour=19, tm_min=17, tm_sec=12, tm_wday=2, tm_yday=39, tm_isdst=0)\n"
     ]
    }
   ],
   "source": [
    "lr_model_hp,metrics = lr.train_model_with_hp(X_train[0:10000],y_train[0:10000],X_test[0:100],y_test[0:100])"
   ]
  },
  {
   "cell_type": "code",
   "execution_count": 39,
   "id": "97047e6f-086a-45e6-a85d-23e36d068061",
   "metadata": {
    "tags": []
   },
   "outputs": [],
   "source": [
    "model_performance['lr_bow_with_hp']=metrics"
   ]
  },
  {
   "cell_type": "markdown",
   "id": "0258073f-4980-48d6-974d-9282ff569193",
   "metadata": {},
   "source": [
    "### XGBoost"
   ]
  },
  {
   "cell_type": "code",
   "execution_count": 40,
   "id": "a26bed89-aa1c-4804-aef3-f0e6f50bce4f",
   "metadata": {
    "tags": []
   },
   "outputs": [
    {
     "name": "stderr",
     "output_type": "stream",
     "text": [
      "2023-02-08 19:17:28,729 - root - INFO - Training the model without hyperparameter tuning\n",
      "2023-02-08 19:29:56,330 - root - INFO - Finished training at time.struct_time(tm_year=2023, tm_mon=2, tm_mday=8, tm_hour=19, tm_min=29, tm_sec=56, tm_wday=2, tm_yday=39, tm_isdst=0)\n"
     ]
    }
   ],
   "source": [
    "xgbc = models.XGBoost()\n",
    "xgb,metrics=xgbc.train_model_without_hp(X_train,y_train,X_test,y_test)"
   ]
  },
  {
   "cell_type": "code",
   "execution_count": 41,
   "id": "e6c4cdac-8009-4004-b690-1b7b3bd09793",
   "metadata": {
    "tags": []
   },
   "outputs": [],
   "source": [
    "model_performance['xgb_without_hp'] = metrics"
   ]
  },
  {
   "cell_type": "code",
   "execution_count": 42,
   "id": "a25581d7-2daa-47a5-b8ba-2f01977a44c2",
   "metadata": {
    "tags": []
   },
   "outputs": [
    {
     "data": {
      "text/plain": [
       "{'naive_bayes_without_hp': {'training_accuracy': 0.8921699371308821,\n",
       "  'training_precision': 0.9141554824006077,\n",
       "  'training_recall': 0.9694398195391805,\n",
       "  'test_accuracy': 0.8865429492165796,\n",
       "  'test_precision': 0.9059342701196145,\n",
       "  'test_recall': 0.9736645032451323},\n",
       " 'naive_bayes_bow_with_hp': {'training_accuracy': 0.9448942655743952,\n",
       "  'training_precision': 0.9606901646264246,\n",
       "  'training_recall': 0.9778720661689672,\n",
       "  'test_accuracy': 0.9005445049449939,\n",
       "  'test_precision': 0.9230769230769231,\n",
       "  'test_recall': 0.9690464303544682},\n",
       " 'lr_bow_without_hp': {'training_accuracy': 0.9016479329396075,\n",
       "  'training_precision': 0.9962230215827338,\n",
       "  'training_recall': 0.8924754283259037,\n",
       "  'test_accuracy': 0.8782086898544282,\n",
       "  'test_precision': 0.9867680180180181,\n",
       "  'test_recall': 0.8749375936095857},\n",
       " 'lr_bow_with_hp': {'training_accuracy': 0.8995,\n",
       "  'training_precision': 0.9957032730949071,\n",
       "  'training_recall': 0.8902824858757062,\n",
       "  'test_accuracy': 0.89,\n",
       "  'test_precision': 0.9880952380952381,\n",
       "  'test_recall': 0.8924731182795699},\n",
       " 'xgb_without_hp': {'training_accuracy': 0.9456563154886645,\n",
       "  'training_precision': 0.9473738097675847,\n",
       "  'training_recall': 0.9939309307696439,\n",
       "  'test_accuracy': 0.9233248138682075,\n",
       "  'test_precision': 0.9320273778616947,\n",
       "  'test_recall': 0.9857713429855217}}"
      ]
     },
     "execution_count": 42,
     "metadata": {},
     "output_type": "execute_result"
    }
   ],
   "source": [
    "model_performance"
   ]
  },
  {
   "cell_type": "code",
   "execution_count": 43,
   "id": "d14a5597-bab2-464e-b631-715271a84e91",
   "metadata": {
    "tags": []
   },
   "outputs": [],
   "source": [
    "# xbgoost without hyperparameter\n",
    "import pickle\n",
    "with open('model.pkl','wb') as f:\n",
    "    pickle.dump(xgb,f)"
   ]
  },
  {
   "cell_type": "markdown",
   "id": "60131431-195c-4d93-b27d-5d0d713e07d1",
   "metadata": {
    "tags": []
   },
   "source": [
    "### Evaluating performance of different ML algorithms trained on TF-IDF model"
   ]
  },
  {
   "cell_type": "code",
   "execution_count": 44,
   "id": "4a42a9a3-70a4-4060-94e8-d88898a6bcc6",
   "metadata": {
    "tags": []
   },
   "outputs": [],
   "source": [
    "tf_idf_performance=pd.DataFrame(model_performance)"
   ]
  },
  {
   "cell_type": "code",
   "execution_count": 45,
   "id": "54eceaf0-bc90-4409-a89a-48ee2b595cf7",
   "metadata": {
    "tags": []
   },
   "outputs": [
    {
     "data": {
      "text/html": [
       "<div>\n",
       "<style scoped>\n",
       "    .dataframe tbody tr th:only-of-type {\n",
       "        vertical-align: middle;\n",
       "    }\n",
       "\n",
       "    .dataframe tbody tr th {\n",
       "        vertical-align: top;\n",
       "    }\n",
       "\n",
       "    .dataframe thead th {\n",
       "        text-align: right;\n",
       "    }\n",
       "</style>\n",
       "<table border=\"1\" class=\"dataframe\">\n",
       "  <thead>\n",
       "    <tr style=\"text-align: right;\">\n",
       "      <th></th>\n",
       "      <th>naive_bayes_without_hp</th>\n",
       "      <th>naive_bayes_bow_with_hp</th>\n",
       "      <th>lr_bow_without_hp</th>\n",
       "      <th>lr_bow_with_hp</th>\n",
       "      <th>xgb_without_hp</th>\n",
       "    </tr>\n",
       "  </thead>\n",
       "  <tbody>\n",
       "    <tr>\n",
       "      <th>training_accuracy</th>\n",
       "      <td>0.892170</td>\n",
       "      <td>0.944894</td>\n",
       "      <td>0.901648</td>\n",
       "      <td>0.899500</td>\n",
       "      <td>0.945656</td>\n",
       "    </tr>\n",
       "    <tr>\n",
       "      <th>training_precision</th>\n",
       "      <td>0.914155</td>\n",
       "      <td>0.960690</td>\n",
       "      <td>0.996223</td>\n",
       "      <td>0.995703</td>\n",
       "      <td>0.947374</td>\n",
       "    </tr>\n",
       "    <tr>\n",
       "      <th>training_recall</th>\n",
       "      <td>0.969440</td>\n",
       "      <td>0.977872</td>\n",
       "      <td>0.892475</td>\n",
       "      <td>0.890282</td>\n",
       "      <td>0.993931</td>\n",
       "    </tr>\n",
       "    <tr>\n",
       "      <th>test_accuracy</th>\n",
       "      <td>0.886543</td>\n",
       "      <td>0.900545</td>\n",
       "      <td>0.878209</td>\n",
       "      <td>0.890000</td>\n",
       "      <td>0.923325</td>\n",
       "    </tr>\n",
       "    <tr>\n",
       "      <th>test_precision</th>\n",
       "      <td>0.905934</td>\n",
       "      <td>0.923077</td>\n",
       "      <td>0.986768</td>\n",
       "      <td>0.988095</td>\n",
       "      <td>0.932027</td>\n",
       "    </tr>\n",
       "    <tr>\n",
       "      <th>test_recall</th>\n",
       "      <td>0.973665</td>\n",
       "      <td>0.969046</td>\n",
       "      <td>0.874938</td>\n",
       "      <td>0.892473</td>\n",
       "      <td>0.985771</td>\n",
       "    </tr>\n",
       "  </tbody>\n",
       "</table>\n",
       "</div>"
      ],
      "text/plain": [
       "                    naive_bayes_without_hp  naive_bayes_bow_with_hp  \\\n",
       "training_accuracy                 0.892170                 0.944894   \n",
       "training_precision                0.914155                 0.960690   \n",
       "training_recall                   0.969440                 0.977872   \n",
       "test_accuracy                     0.886543                 0.900545   \n",
       "test_precision                    0.905934                 0.923077   \n",
       "test_recall                       0.973665                 0.969046   \n",
       "\n",
       "                    lr_bow_without_hp  lr_bow_with_hp  xgb_without_hp  \n",
       "training_accuracy            0.901648        0.899500        0.945656  \n",
       "training_precision           0.996223        0.995703        0.947374  \n",
       "training_recall              0.892475        0.890282        0.993931  \n",
       "test_accuracy                0.878209        0.890000        0.923325  \n",
       "test_precision               0.986768        0.988095        0.932027  \n",
       "test_recall                  0.874938        0.892473        0.985771  "
      ]
     },
     "execution_count": 45,
     "metadata": {},
     "output_type": "execute_result"
    }
   ],
   "source": [
    "tf_idf_performance"
   ]
  }
 ],
 "metadata": {
  "forced_instance_type": "ml.t3.medium",
  "forced_lcc_arn": "",
  "instance_type": "ml.m5.large",
  "kernelspec": {
   "display_name": "Python 3 (Data Science)",
   "language": "python",
   "name": "python3__SAGEMAKER_INTERNAL__arn:aws:sagemaker:us-west-2:236514542706:image/datascience-1.0"
  },
  "language_info": {
   "codemirror_mode": {
    "name": "ipython",
    "version": 3
   },
   "file_extension": ".py",
   "mimetype": "text/x-python",
   "name": "python",
   "nbconvert_exporter": "python",
   "pygments_lexer": "ipython3",
   "version": "3.7.10"
  }
 },
 "nbformat": 4,
 "nbformat_minor": 5
}
